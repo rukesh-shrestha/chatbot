{
 "cells": [
  {
   "cell_type": "code",
   "execution_count": 1,
   "metadata": {},
   "outputs": [
    {
     "name": "stderr",
     "output_type": "stream",
     "text": [
      "Using TensorFlow backend.\n",
      "/home/rukesh/.local/lib/python3.6/site-packages/tensorflow/python/framework/dtypes.py:516: FutureWarning: Passing (type, 1) or '1type' as a synonym of type is deprecated; in a future version of numpy, it will be understood as (type, (1,)) / '(1,)type'.\n",
      "  _np_qint8 = np.dtype([(\"qint8\", np.int8, 1)])\n",
      "/home/rukesh/.local/lib/python3.6/site-packages/tensorflow/python/framework/dtypes.py:517: FutureWarning: Passing (type, 1) or '1type' as a synonym of type is deprecated; in a future version of numpy, it will be understood as (type, (1,)) / '(1,)type'.\n",
      "  _np_quint8 = np.dtype([(\"quint8\", np.uint8, 1)])\n",
      "/home/rukesh/.local/lib/python3.6/site-packages/tensorflow/python/framework/dtypes.py:518: FutureWarning: Passing (type, 1) or '1type' as a synonym of type is deprecated; in a future version of numpy, it will be understood as (type, (1,)) / '(1,)type'.\n",
      "  _np_qint16 = np.dtype([(\"qint16\", np.int16, 1)])\n",
      "/home/rukesh/.local/lib/python3.6/site-packages/tensorflow/python/framework/dtypes.py:519: FutureWarning: Passing (type, 1) or '1type' as a synonym of type is deprecated; in a future version of numpy, it will be understood as (type, (1,)) / '(1,)type'.\n",
      "  _np_quint16 = np.dtype([(\"quint16\", np.uint16, 1)])\n",
      "/home/rukesh/.local/lib/python3.6/site-packages/tensorflow/python/framework/dtypes.py:520: FutureWarning: Passing (type, 1) or '1type' as a synonym of type is deprecated; in a future version of numpy, it will be understood as (type, (1,)) / '(1,)type'.\n",
      "  _np_qint32 = np.dtype([(\"qint32\", np.int32, 1)])\n",
      "/home/rukesh/.local/lib/python3.6/site-packages/tensorflow/python/framework/dtypes.py:525: FutureWarning: Passing (type, 1) or '1type' as a synonym of type is deprecated; in a future version of numpy, it will be understood as (type, (1,)) / '(1,)type'.\n",
      "  np_resource = np.dtype([(\"resource\", np.ubyte, 1)])\n",
      "/home/rukesh/.local/lib/python3.6/site-packages/tensorboard/compat/tensorflow_stub/dtypes.py:541: FutureWarning: Passing (type, 1) or '1type' as a synonym of type is deprecated; in a future version of numpy, it will be understood as (type, (1,)) / '(1,)type'.\n",
      "  _np_qint8 = np.dtype([(\"qint8\", np.int8, 1)])\n",
      "/home/rukesh/.local/lib/python3.6/site-packages/tensorboard/compat/tensorflow_stub/dtypes.py:542: FutureWarning: Passing (type, 1) or '1type' as a synonym of type is deprecated; in a future version of numpy, it will be understood as (type, (1,)) / '(1,)type'.\n",
      "  _np_quint8 = np.dtype([(\"quint8\", np.uint8, 1)])\n",
      "/home/rukesh/.local/lib/python3.6/site-packages/tensorboard/compat/tensorflow_stub/dtypes.py:543: FutureWarning: Passing (type, 1) or '1type' as a synonym of type is deprecated; in a future version of numpy, it will be understood as (type, (1,)) / '(1,)type'.\n",
      "  _np_qint16 = np.dtype([(\"qint16\", np.int16, 1)])\n",
      "/home/rukesh/.local/lib/python3.6/site-packages/tensorboard/compat/tensorflow_stub/dtypes.py:544: FutureWarning: Passing (type, 1) or '1type' as a synonym of type is deprecated; in a future version of numpy, it will be understood as (type, (1,)) / '(1,)type'.\n",
      "  _np_quint16 = np.dtype([(\"quint16\", np.uint16, 1)])\n",
      "/home/rukesh/.local/lib/python3.6/site-packages/tensorboard/compat/tensorflow_stub/dtypes.py:545: FutureWarning: Passing (type, 1) or '1type' as a synonym of type is deprecated; in a future version of numpy, it will be understood as (type, (1,)) / '(1,)type'.\n",
      "  _np_qint32 = np.dtype([(\"qint32\", np.int32, 1)])\n",
      "/home/rukesh/.local/lib/python3.6/site-packages/tensorboard/compat/tensorflow_stub/dtypes.py:550: FutureWarning: Passing (type, 1) or '1type' as a synonym of type is deprecated; in a future version of numpy, it will be understood as (type, (1,)) / '(1,)type'.\n",
      "  np_resource = np.dtype([(\"resource\", np.ubyte, 1)])\n",
      "WARNING (theano.tensor.blas): Using NumPy C-API based implementation for BLAS functions.\n"
     ]
    }
   ],
   "source": [
    "import os\n",
    "import pickle\n",
    "import numpy as np\n",
    "from keras.models import Sequential\n",
    "import gensim\n",
    "from keras.layers.recurrent import LSTM,SimpleRNN\n",
    "from sklearn.model_selection import train_test_split\n",
    "import theano\n",
    "theano.config.optimizer=\"None\""
   ]
  },
  {
   "cell_type": "code",
   "execution_count": 2,
   "metadata": {},
   "outputs": [],
   "source": [
    "with open('conversationbot.pickle','rb') as f:\n",
    "    vec_x,vec_y=pickle.load(f) "
   ]
  },
  {
   "cell_type": "code",
   "execution_count": 3,
   "metadata": {},
   "outputs": [],
   "source": [
    "vec_x=np.array(vec_x,dtype=np.float64)\n",
    "vec_y=np.array(vec_y,dtype=np.float64)"
   ]
  },
  {
   "cell_type": "code",
   "execution_count": 4,
   "metadata": {},
   "outputs": [],
   "source": [
    "# vec_x"
   ]
  },
  {
   "cell_type": "code",
   "execution_count": 5,
   "metadata": {},
   "outputs": [],
   "source": [
    "x_train,x_test, y_train,y_test = train_test_split(vec_x, vec_y, test_size=0.2, random_state=0)"
   ]
  },
  {
   "cell_type": "code",
   "execution_count": 6,
   "metadata": {},
   "outputs": [
    {
     "name": "stderr",
     "output_type": "stream",
     "text": [
      "/home/rukesh/.local/lib/python3.6/site-packages/ipykernel_launcher.py:2: UserWarning: Update your `LSTM` call to the Keras 2 API: `LSTM(input_shape=(15, 300), return_sequences=True, activation=\"relu\", units=300, kernel_initializer=\"he_uniform\", recurrent_initializer=\"he_uniform\")`\n",
      "  \n",
      "/home/rukesh/.local/lib/python3.6/site-packages/ipykernel_launcher.py:3: UserWarning: Update your `LSTM` call to the Keras 2 API: `LSTM(input_shape=(15, 300), return_sequences=True, activation=\"relu\", units=300, kernel_initializer=\"he_uniform\", recurrent_initializer=\"he_uniform\")`\n",
      "  This is separate from the ipykernel package so we can avoid doing imports until\n",
      "/home/rukesh/.local/lib/python3.6/site-packages/ipykernel_launcher.py:4: UserWarning: Update your `LSTM` call to the Keras 2 API: `LSTM(input_shape=(15, 300), return_sequences=True, activation=\"relu\", units=300, kernel_initializer=\"he_uniform\", recurrent_initializer=\"he_uniform\")`\n",
      "  after removing the cwd from sys.path.\n",
      "/home/rukesh/.local/lib/python3.6/site-packages/ipykernel_launcher.py:5: UserWarning: Update your `LSTM` call to the Keras 2 API: `LSTM(input_shape=(15, 300), return_sequences=True, activation=\"softmax\", units=300, kernel_initializer=\"he_uniform\", recurrent_initializer=\"he_uniform\")`\n",
      "  \"\"\"\n"
     ]
    }
   ],
   "source": [
    "model=Sequential()\n",
    "model.add(LSTM(output_dim=300,input_shape=x_train.shape[1:],return_sequences=True, init='he_uniform', inner_init='he_uniform', activation='relu'))\n",
    "model.add(LSTM(output_dim=300,input_shape=x_train.shape[1:],return_sequences=True, init='he_uniform', inner_init='he_uniform', activation='relu'))\n",
    "model.add(LSTM(output_dim=300,input_shape=x_train.shape[1:],return_sequences=True, init='he_uniform', inner_init='he_uniform', activation='relu'))\n",
    "model.add(LSTM(output_dim=300,input_shape=x_train.shape[1:],return_sequences=True, init='he_uniform', inner_init='he_uniform', activation='softmax'))\n",
    "model.compile(loss='categorical_crossentropy', optimizer='rmsprop', metrics=['accuracy'])"
   ]
  },
  {
   "cell_type": "code",
   "execution_count": 7,
   "metadata": {},
   "outputs": [
    {
     "name": "stdout",
     "output_type": "stream",
     "text": [
      "WARNING:tensorflow:From /home/rukesh/.local/lib/python3.6/site-packages/tensorflow/python/ops/math_grad.py:1250: add_dispatch_support.<locals>.wrapper (from tensorflow.python.ops.array_ops) is deprecated and will be removed in a future version.\n",
      "Instructions for updating:\n",
      "Use tf.where in 2.0, which has the same broadcast rule as np.where\n"
     ]
    },
    {
     "name": "stderr",
     "output_type": "stream",
     "text": [
      "/home/rukesh/.local/lib/python3.6/site-packages/ipykernel_launcher.py:1: UserWarning: The `nb_epoch` argument in `fit` has been renamed `epochs`.\n",
      "  \"\"\"Entry point for launching an IPython kernel.\n"
     ]
    },
    {
     "name": "stdout",
     "output_type": "stream",
     "text": [
      "WARNING:tensorflow:From /home/rukesh/.local/lib/python3.6/site-packages/keras/backend/tensorflow_backend.py:422: The name tf.global_variables is deprecated. Please use tf.compat.v1.global_variables instead.\n",
      "\n",
      "Train on 503 samples, validate on 126 samples\n",
      "Epoch 1/130\n",
      "503/503 [==============================] - 3s 6ms/step - loss: -12.1753 - accuracy: 0.0050 - val_loss: -22.7467 - val_accuracy: 0.0048\n",
      "Epoch 2/130\n",
      "503/503 [==============================] - 2s 5ms/step - loss: -27.1289 - accuracy: 0.0117 - val_loss: -26.8198 - val_accuracy: 5.2910e-04\n",
      "Epoch 3/130\n",
      "503/503 [==============================] - 2s 5ms/step - loss: -31.5063 - accuracy: 0.0021 - val_loss: -29.8992 - val_accuracy: 5.2910e-04\n",
      "Epoch 4/130\n",
      "503/503 [==============================] - 2s 5ms/step - loss: -34.0206 - accuracy: 0.0038 - val_loss: -31.0935 - val_accuracy: 0.0021\n",
      "Epoch 5/130\n",
      "503/503 [==============================] - 2s 5ms/step - loss: -35.1689 - accuracy: 0.0064 - val_loss: -31.8708 - val_accuracy: 0.0026\n",
      "Epoch 6/130\n",
      "503/503 [==============================] - 2s 5ms/step - loss: -34.9652 - accuracy: 0.0046 - val_loss: -32.0990 - val_accuracy: 0.0079\n",
      "Epoch 7/130\n",
      "503/503 [==============================] - 2s 5ms/step - loss: -36.1136 - accuracy: 0.0087 - val_loss: -32.9039 - val_accuracy: 0.0079\n",
      "Epoch 8/130\n",
      "503/503 [==============================] - 2s 5ms/step - loss: -36.8833 - accuracy: 0.0103 - val_loss: -33.4657 - val_accuracy: 0.0053\n",
      "Epoch 9/130\n",
      "503/503 [==============================] - 2s 5ms/step - loss: -37.5821 - accuracy: 0.0073 - val_loss: -34.0366 - val_accuracy: 0.0058\n",
      "Epoch 10/130\n",
      "503/503 [==============================] - 2s 5ms/step - loss: -37.9884 - accuracy: 0.0093 - val_loss: -34.1678 - val_accuracy: 0.0032\n",
      "Epoch 11/130\n",
      "503/503 [==============================] - 2s 5ms/step - loss: -38.3973 - accuracy: 0.0069 - val_loss: -35.4035 - val_accuracy: 0.0053\n",
      "Epoch 12/130\n",
      "503/503 [==============================] - 2s 5ms/step - loss: -39.8292 - accuracy: 0.0065 - val_loss: -36.2399 - val_accuracy: 0.0058\n",
      "Epoch 13/130\n",
      "503/503 [==============================] - 2s 5ms/step - loss: -40.4575 - accuracy: 0.0087 - val_loss: -36.5307 - val_accuracy: 5.2910e-04\n",
      "Epoch 14/130\n",
      "503/503 [==============================] - 2s 5ms/step - loss: -40.9761 - accuracy: 0.0024 - val_loss: -37.1637 - val_accuracy: 0.0026\n",
      "Epoch 15/130\n",
      "503/503 [==============================] - 2s 5ms/step - loss: -41.6307 - accuracy: 0.0065 - val_loss: -37.9636 - val_accuracy: 0.0069\n",
      "Epoch 16/130\n",
      "503/503 [==============================] - 2s 5ms/step - loss: -42.0304 - accuracy: 0.0152 - val_loss: -38.3802 - val_accuracy: 0.0037\n",
      "Epoch 17/130\n",
      "503/503 [==============================] - 2s 5ms/step - loss: -42.8819 - accuracy: 0.0049 - val_loss: -37.8266 - val_accuracy: 0.0069\n",
      "Epoch 18/130\n",
      "503/503 [==============================] - 2s 5ms/step - loss: -42.2250 - accuracy: 0.0083 - val_loss: -37.7293 - val_accuracy: 0.0138\n",
      "Epoch 19/130\n",
      "503/503 [==============================] - 2s 5ms/step - loss: -42.1015 - accuracy: 0.0072 - val_loss: -37.9621 - val_accuracy: 0.0132\n",
      "Epoch 20/130\n",
      "503/503 [==============================] - 2s 5ms/step - loss: -42.4660 - accuracy: 0.0086 - val_loss: -38.5574 - val_accuracy: 0.0058\n",
      "Epoch 21/130\n",
      "503/503 [==============================] - 2s 5ms/step - loss: -42.9763 - accuracy: 0.0065 - val_loss: -39.0452 - val_accuracy: 0.0058\n",
      "Epoch 22/130\n",
      "503/503 [==============================] - 2s 5ms/step - loss: -43.4110 - accuracy: 0.0054 - val_loss: -39.6915 - val_accuracy: 0.0011\n",
      "Epoch 23/130\n",
      "503/503 [==============================] - 2s 5ms/step - loss: -43.8519 - accuracy: 0.0020 - val_loss: -39.5619 - val_accuracy: 0.0016\n",
      "Epoch 24/130\n",
      "503/503 [==============================] - 2s 5ms/step - loss: -43.5422 - accuracy: 0.0033 - val_loss: -40.5135 - val_accuracy: 0.0021\n",
      "Epoch 25/130\n",
      "503/503 [==============================] - 2s 5ms/step - loss: -45.5177 - accuracy: 0.0037 - val_loss: -41.4041 - val_accuracy: 0.0026\n",
      "Epoch 26/130\n",
      "503/503 [==============================] - 2s 5ms/step - loss: -46.7095 - accuracy: 0.0042 - val_loss: -43.0910 - val_accuracy: 0.0069\n",
      "Epoch 27/130\n",
      "503/503 [==============================] - 2s 5ms/step - loss: -48.3221 - accuracy: 0.0057 - val_loss: -43.3292 - val_accuracy: 0.0026\n",
      "Epoch 28/130\n",
      "503/503 [==============================] - 2s 5ms/step - loss: -48.5154 - accuracy: 0.0086 - val_loss: -44.6806 - val_accuracy: 0.0175\n",
      "Epoch 29/130\n",
      "503/503 [==============================] - 2s 5ms/step - loss: -49.9503 - accuracy: 0.0090 - val_loss: -45.3268 - val_accuracy: 0.0037\n",
      "Epoch 30/130\n",
      "503/503 [==============================] - 2s 5ms/step - loss: -49.6376 - accuracy: 0.0032 - val_loss: -45.6945 - val_accuracy: 0.0042\n",
      "Epoch 31/130\n",
      "503/503 [==============================] - 2s 5ms/step - loss: -50.3689 - accuracy: 0.0061 - val_loss: -46.0392 - val_accuracy: 0.0069\n",
      "Epoch 32/130\n",
      "503/503 [==============================] - 2s 5ms/step - loss: -50.6831 - accuracy: 0.0068 - val_loss: -46.4435 - val_accuracy: 0.0026\n",
      "Epoch 33/130\n",
      "503/503 [==============================] - 2s 5ms/step - loss: -51.5802 - accuracy: 0.0044 - val_loss: -45.6027 - val_accuracy: 0.0058\n",
      "Epoch 34/130\n",
      "503/503 [==============================] - 2s 5ms/step - loss: -50.6164 - accuracy: 0.0076 - val_loss: -45.6058 - val_accuracy: 0.0090\n",
      "Epoch 35/130\n",
      "503/503 [==============================] - 2s 5ms/step - loss: -50.0403 - accuracy: 0.0050 - val_loss: -45.9419 - val_accuracy: 0.0032\n",
      "Epoch 36/130\n",
      "503/503 [==============================] - 2s 5ms/step - loss: -51.4943 - accuracy: 0.0046 - val_loss: -48.1988 - val_accuracy: 0.0090\n",
      "Epoch 37/130\n",
      "503/503 [==============================] - 2s 5ms/step - loss: -52.5133 - accuracy: 0.0083 - val_loss: -47.6968 - val_accuracy: 0.0101\n",
      "Epoch 38/130\n",
      "503/503 [==============================] - 2s 5ms/step - loss: -53.3607 - accuracy: 0.0091 - val_loss: -49.1984 - val_accuracy: 0.0698\n",
      "Epoch 39/130\n",
      "503/503 [==============================] - 2s 5ms/step - loss: -54.6989 - accuracy: 0.0241 - val_loss: -48.9136 - val_accuracy: 0.0095\n",
      "Epoch 40/130\n",
      "503/503 [==============================] - 2s 5ms/step - loss: -54.0484 - accuracy: 0.0062 - val_loss: -49.7339 - val_accuracy: 0.0079\n",
      "Epoch 41/130\n",
      "503/503 [==============================] - 2s 5ms/step - loss: -55.5578 - accuracy: 0.0045 - val_loss: -49.5194 - val_accuracy: 0.0048\n",
      "Epoch 42/130\n",
      "503/503 [==============================] - 2s 5ms/step - loss: -56.0698 - accuracy: 0.0037 - val_loss: -52.5345 - val_accuracy: 0.0032\n",
      "Epoch 43/130\n",
      "503/503 [==============================] - 2s 5ms/step - loss: -57.4181 - accuracy: 0.0027 - val_loss: -52.8634 - val_accuracy: 0.0026\n",
      "Epoch 44/130\n",
      "503/503 [==============================] - 2s 5ms/step - loss: -57.6720 - accuracy: 0.0021 - val_loss: -53.3137 - val_accuracy: 0.0021\n",
      "Epoch 45/130\n",
      "503/503 [==============================] - 2s 5ms/step - loss: -58.2539 - accuracy: 0.0021 - val_loss: -54.2208 - val_accuracy: 0.0016\n",
      "Epoch 46/130\n",
      "503/503 [==============================] - 2s 5ms/step - loss: -59.0643 - accuracy: 0.0023 - val_loss: -55.0582 - val_accuracy: 0.0016\n",
      "Epoch 47/130\n",
      "503/503 [==============================] - 2s 4ms/step - loss: -57.7319 - accuracy: 0.0023 - val_loss: -50.6111 - val_accuracy: 0.0026\n",
      "Epoch 48/130\n",
      "503/503 [==============================] - 2s 5ms/step - loss: -56.3156 - accuracy: 0.0162 - val_loss: -52.5753 - val_accuracy: 5.2910e-04\n",
      "Epoch 49/130\n",
      "503/503 [==============================] - 2s 5ms/step - loss: -57.8281 - accuracy: 0.0147 - val_loss: -54.0227 - val_accuracy: 0.0011\n",
      "Epoch 50/130\n",
      "503/503 [==============================] - 2s 5ms/step - loss: -57.5919 - accuracy: 0.0232 - val_loss: -52.4187 - val_accuracy: 0.0058\n",
      "Epoch 51/130\n",
      "503/503 [==============================] - 2s 5ms/step - loss: -58.0872 - accuracy: 0.0223 - val_loss: -56.0887 - val_accuracy: 0.0206\n",
      "Epoch 52/130\n",
      "503/503 [==============================] - 2s 5ms/step - loss: -60.7367 - accuracy: 0.0239 - val_loss: -55.2471 - val_accuracy: 0.0090\n",
      "Epoch 53/130\n",
      "503/503 [==============================] - 2s 5ms/step - loss: -60.3099 - accuracy: 0.0140 - val_loss: -56.8252 - val_accuracy: 0.0095\n",
      "Epoch 54/130\n"
     ]
    },
    {
     "name": "stdout",
     "output_type": "stream",
     "text": [
      "503/503 [==============================] - 2s 5ms/step - loss: -60.3846 - accuracy: 0.0228 - val_loss: -55.5814 - val_accuracy: 0.0228\n",
      "Epoch 55/130\n",
      "503/503 [==============================] - 2s 5ms/step - loss: -59.4834 - accuracy: 0.0085 - val_loss: -54.1187 - val_accuracy: 0.0095\n",
      "Epoch 56/130\n",
      "503/503 [==============================] - 2s 5ms/step - loss: -60.1501 - accuracy: 0.0028 - val_loss: -56.0336 - val_accuracy: 0.0000e+00\n",
      "Epoch 57/130\n",
      "503/503 [==============================] - 2s 5ms/step - loss: -60.5301 - accuracy: 3.9761e-04 - val_loss: -54.1980 - val_accuracy: 0.0000e+00\n",
      "Epoch 58/130\n",
      "503/503 [==============================] - 2s 5ms/step - loss: -60.2685 - accuracy: 3.9761e-04 - val_loss: -57.9046 - val_accuracy: 0.0011\n",
      "Epoch 59/130\n",
      "503/503 [==============================] - 2s 5ms/step - loss: -62.2843 - accuracy: 0.0020 - val_loss: -57.8047 - val_accuracy: 5.2910e-04\n",
      "Epoch 60/130\n",
      "503/503 [==============================] - 2s 5ms/step - loss: -60.8827 - accuracy: 0.0016 - val_loss: -56.1648 - val_accuracy: 5.2910e-04\n",
      "Epoch 61/130\n",
      "503/503 [==============================] - 2s 5ms/step - loss: -61.0468 - accuracy: 0.0020 - val_loss: -57.9150 - val_accuracy: 0.0016\n",
      "Epoch 62/130\n",
      "503/503 [==============================] - 2s 5ms/step - loss: -60.9256 - accuracy: 0.0027 - val_loss: -58.2340 - val_accuracy: 0.0016\n",
      "Epoch 63/130\n",
      "503/503 [==============================] - 2s 5ms/step - loss: -61.9583 - accuracy: 0.0025 - val_loss: -58.2724 - val_accuracy: 0.0011\n",
      "Epoch 64/130\n",
      "503/503 [==============================] - 2s 5ms/step - loss: -62.7003 - accuracy: 0.0028 - val_loss: -59.0699 - val_accuracy: 5.2910e-04\n",
      "Epoch 65/130\n",
      "503/503 [==============================] - 2s 5ms/step - loss: -63.2187 - accuracy: 0.0012 - val_loss: -59.0300 - val_accuracy: 0.0026\n",
      "Epoch 66/130\n",
      "503/503 [==============================] - 2s 5ms/step - loss: -63.4577 - accuracy: 0.0030 - val_loss: -59.4353 - val_accuracy: 5.2910e-04\n",
      "Epoch 67/130\n",
      "503/503 [==============================] - 2s 5ms/step - loss: -62.6808 - accuracy: 0.0069 - val_loss: -56.2111 - val_accuracy: 0.0169\n",
      "Epoch 68/130\n",
      "503/503 [==============================] - 2s 5ms/step - loss: -60.1571 - accuracy: 0.0081 - val_loss: -56.3553 - val_accuracy: 0.0000e+00\n",
      "Epoch 69/130\n",
      "503/503 [==============================] - 2s 5ms/step - loss: -60.1585 - accuracy: 7.9523e-04 - val_loss: -56.5072 - val_accuracy: 0.0000e+00\n",
      "Epoch 70/130\n",
      "503/503 [==============================] - 2s 5ms/step - loss: -60.1431 - accuracy: 7.9523e-04 - val_loss: -56.4882 - val_accuracy: 0.0000e+00\n",
      "Epoch 71/130\n",
      "503/503 [==============================] - 2s 5ms/step - loss: -60.5012 - accuracy: 0.0015 - val_loss: -58.4535 - val_accuracy: 0.0016\n",
      "Epoch 72/130\n",
      "503/503 [==============================] - 2s 5ms/step - loss: -62.3435 - accuracy: 0.0019 - val_loss: -58.1403 - val_accuracy: 0.0011\n",
      "Epoch 73/130\n",
      "503/503 [==============================] - 2s 5ms/step - loss: -61.2212 - accuracy: 0.0020 - val_loss: -55.5509 - val_accuracy: 0.0021\n",
      "Epoch 74/130\n",
      "503/503 [==============================] - 2s 5ms/step - loss: -59.2624 - accuracy: 0.0020 - val_loss: -56.1192 - val_accuracy: 0.0021\n",
      "Epoch 75/130\n",
      "503/503 [==============================] - 2s 5ms/step - loss: -59.9831 - accuracy: 0.0023 - val_loss: -58.5238 - val_accuracy: 0.0021\n",
      "Epoch 76/130\n",
      "503/503 [==============================] - 2s 5ms/step - loss: -60.4363 - accuracy: 0.0032 - val_loss: -55.8675 - val_accuracy: 0.0026\n",
      "Epoch 77/130\n",
      "503/503 [==============================] - 2s 5ms/step - loss: -60.5512 - accuracy: 0.0028 - val_loss: -57.7037 - val_accuracy: 0.0021\n",
      "Epoch 78/130\n",
      "503/503 [==============================] - 2s 5ms/step - loss: -60.8801 - accuracy: 0.0032 - val_loss: -58.1778 - val_accuracy: 0.0138\n",
      "Epoch 79/130\n",
      "503/503 [==============================] - 2s 5ms/step - loss: -62.5289 - accuracy: 0.0147 - val_loss: -58.5640 - val_accuracy: 0.0185\n",
      "Epoch 80/130\n",
      "503/503 [==============================] - 2s 5ms/step - loss: -62.5602 - accuracy: 0.0113 - val_loss: -58.2490 - val_accuracy: 0.0280\n",
      "Epoch 81/130\n",
      "503/503 [==============================] - 2s 5ms/step - loss: -63.1864 - accuracy: 0.0211 - val_loss: -59.2602 - val_accuracy: 0.0201\n",
      "Epoch 82/130\n",
      "503/503 [==============================] - 2s 5ms/step - loss: -62.6897 - accuracy: 0.0167 - val_loss: -56.3132 - val_accuracy: 5.2910e-04\n",
      "Epoch 83/130\n",
      "503/503 [==============================] - 2s 5ms/step - loss: -62.5191 - accuracy: 0.0013 - val_loss: -58.5067 - val_accuracy: 0.0201\n",
      "Epoch 84/130\n",
      "503/503 [==============================] - 2s 5ms/step - loss: -62.6249 - accuracy: 0.0188 - val_loss: -58.3232 - val_accuracy: 0.0270\n",
      "Epoch 85/130\n",
      "503/503 [==============================] - 2s 5ms/step - loss: -62.4546 - accuracy: 0.0209 - val_loss: -58.4805 - val_accuracy: 0.0249\n",
      "Epoch 86/130\n",
      "503/503 [==============================] - 2s 5ms/step - loss: -62.7180 - accuracy: 0.0215 - val_loss: -58.8371 - val_accuracy: 0.0286\n",
      "Epoch 87/130\n",
      "503/503 [==============================] - 2s 5ms/step - loss: -61.9262 - accuracy: 0.0094 - val_loss: -57.7107 - val_accuracy: 0.0011\n",
      "Epoch 88/130\n",
      "503/503 [==============================] - 2s 5ms/step - loss: -61.9472 - accuracy: 5.3015e-04 - val_loss: -58.0283 - val_accuracy: 0.0011\n",
      "Epoch 89/130\n",
      "503/503 [==============================] - 2s 5ms/step - loss: -62.5235 - accuracy: 0.0049 - val_loss: -52.5158 - val_accuracy: 5.2910e-04\n",
      "Epoch 90/130\n",
      "503/503 [==============================] - 2s 5ms/step - loss: -59.7175 - accuracy: 7.9523e-04 - val_loss: -58.6272 - val_accuracy: 5.2910e-04\n",
      "Epoch 91/130\n",
      "503/503 [==============================] - 2s 5ms/step - loss: -62.7500 - accuracy: 5.3015e-04 - val_loss: -58.7685 - val_accuracy: 0.0000e+00\n",
      "Epoch 92/130\n",
      "503/503 [==============================] - 2s 5ms/step - loss: -62.9440 - accuracy: 3.9761e-04 - val_loss: -58.9430 - val_accuracy: 0.0011\n",
      "Epoch 93/130\n",
      "503/503 [==============================] - 2s 5ms/step - loss: -61.0725 - accuracy: 3.9761e-04 - val_loss: -54.8275 - val_accuracy: 0.0000e+00\n",
      "Epoch 94/130\n",
      "503/503 [==============================] - 2s 5ms/step - loss: -58.9490 - accuracy: 2.6508e-04 - val_loss: -56.4250 - val_accuracy: 0.0011\n",
      "Epoch 95/130\n",
      "503/503 [==============================] - 2s 5ms/step - loss: -61.9231 - accuracy: 3.9761e-04 - val_loss: -57.9227 - val_accuracy: 0.0000e+00\n",
      "Epoch 96/130\n",
      "503/503 [==============================] - 2s 5ms/step - loss: -62.5833 - accuracy: 2.6508e-04 - val_loss: -58.1965 - val_accuracy: 0.0000e+00\n",
      "Epoch 97/130\n",
      "503/503 [==============================] - 2s 5ms/step - loss: -62.5262 - accuracy: 5.3015e-04 - val_loss: -58.7301 - val_accuracy: 0.0021\n",
      "Epoch 98/130\n",
      "503/503 [==============================] - 2s 5ms/step - loss: -63.1194 - accuracy: 0.0011 - val_loss: -59.0375 - val_accuracy: 0.0011\n",
      "Epoch 99/130\n",
      "503/503 [==============================] - 2s 5ms/step - loss: -63.3480 - accuracy: 0.0015 - val_loss: -57.8538 - val_accuracy: 0.0037\n",
      "Epoch 100/130\n",
      "503/503 [==============================] - 2s 5ms/step - loss: -60.2439 - accuracy: 0.0013 - val_loss: -59.0122 - val_accuracy: 0.0016\n",
      "Epoch 101/130\n",
      "503/503 [==============================] - 2s 5ms/step - loss: -62.8943 - accuracy: 0.0011 - val_loss: -59.3991 - val_accuracy: 0.0026\n",
      "Epoch 102/130\n",
      "503/503 [==============================] - 2s 5ms/step - loss: -62.6020 - accuracy: 0.0012 - val_loss: -58.1732 - val_accuracy: 0.0037\n",
      "Epoch 103/130\n",
      "503/503 [==============================] - 2s 5ms/step - loss: -61.1568 - accuracy: 0.0072 - val_loss: -58.0811 - val_accuracy: 0.0148\n",
      "Epoch 104/130\n",
      "503/503 [==============================] - 2s 5ms/step - loss: -62.3370 - accuracy: 0.0179 - val_loss: -58.2845 - val_accuracy: 0.0164\n",
      "Epoch 105/130\n",
      "503/503 [==============================] - 2s 5ms/step - loss: -62.1833 - accuracy: 0.0201 - val_loss: -58.0598 - val_accuracy: 0.0153\n",
      "Epoch 106/130\n",
      "503/503 [==============================] - 2s 5ms/step - loss: -62.0285 - accuracy: 0.0195 - val_loss: -57.9627 - val_accuracy: 0.0153\n",
      "Epoch 107/130\n",
      "503/503 [==============================] - 2s 5ms/step - loss: -62.2659 - accuracy: 0.0196 - val_loss: -58.2994 - val_accuracy: 0.0153\n",
      "Epoch 108/130\n"
     ]
    },
    {
     "name": "stdout",
     "output_type": "stream",
     "text": [
      "503/503 [==============================] - 2s 5ms/step - loss: -62.7344 - accuracy: 0.0152 - val_loss: -58.3565 - val_accuracy: 0.0153\n",
      "Epoch 109/130\n",
      "503/503 [==============================] - 2s 5ms/step - loss: -62.7697 - accuracy: 0.0156 - val_loss: -58.8425 - val_accuracy: 0.0153\n",
      "Epoch 110/130\n",
      "503/503 [==============================] - 2s 5ms/step - loss: -63.2848 - accuracy: 0.0127 - val_loss: -59.2198 - val_accuracy: 0.0085\n",
      "Epoch 111/130\n",
      "503/503 [==============================] - 2s 5ms/step - loss: -63.2706 - accuracy: 0.0106 - val_loss: -59.2085 - val_accuracy: 0.0085\n",
      "Epoch 112/130\n",
      "503/503 [==============================] - 2s 5ms/step - loss: -63.4034 - accuracy: 0.0115 - val_loss: -59.3330 - val_accuracy: 0.0079\n",
      "Epoch 113/130\n",
      "503/503 [==============================] - 2s 5ms/step - loss: -62.5939 - accuracy: 0.0115 - val_loss: -58.5912 - val_accuracy: 0.0074\n",
      "Epoch 114/130\n",
      "503/503 [==============================] - 2s 5ms/step - loss: -63.3682 - accuracy: 0.0237 - val_loss: -55.9958 - val_accuracy: 0.0000e+00\n",
      "Epoch 115/130\n",
      "503/503 [==============================] - 2s 5ms/step - loss: -59.8601 - accuracy: 0.0163 - val_loss: -55.1744 - val_accuracy: 0.0344\n",
      "Epoch 116/130\n",
      "503/503 [==============================] - 2s 5ms/step - loss: -60.9899 - accuracy: 0.0436 - val_loss: -59.2046 - val_accuracy: 0.0333\n",
      "Epoch 117/130\n",
      "503/503 [==============================] - 2s 5ms/step - loss: -62.5073 - accuracy: 0.0427 - val_loss: -58.3258 - val_accuracy: 0.0344\n",
      "Epoch 118/130\n",
      "503/503 [==============================] - 2s 5ms/step - loss: -62.2112 - accuracy: 0.0437 - val_loss: -57.8405 - val_accuracy: 0.0344\n",
      "Epoch 119/130\n",
      "503/503 [==============================] - 2s 5ms/step - loss: -62.5327 - accuracy: 0.0396 - val_loss: -58.3003 - val_accuracy: 0.0180\n",
      "Epoch 120/130\n",
      "503/503 [==============================] - 2s 5ms/step - loss: -63.1580 - accuracy: 0.0256 - val_loss: -59.4452 - val_accuracy: 0.0228\n",
      "Epoch 121/130\n",
      "503/503 [==============================] - 2s 5ms/step - loss: -62.8505 - accuracy: 0.0237 - val_loss: -59.4700 - val_accuracy: 0.0222\n",
      "Epoch 122/130\n",
      "503/503 [==============================] - 2s 5ms/step - loss: -63.7161 - accuracy: 0.0327 - val_loss: -56.9925 - val_accuracy: 0.0048\n",
      "Epoch 123/130\n",
      "503/503 [==============================] - 2s 5ms/step - loss: -61.5176 - accuracy: 0.0151 - val_loss: -58.3828 - val_accuracy: 0.0206\n",
      "Epoch 124/130\n",
      "503/503 [==============================] - 2s 5ms/step - loss: -62.9349 - accuracy: 0.0241 - val_loss: -58.8367 - val_accuracy: 0.0254\n",
      "Epoch 125/130\n",
      "503/503 [==============================] - 2s 5ms/step - loss: -63.2136 - accuracy: 0.0248 - val_loss: -59.2774 - val_accuracy: 0.0317\n",
      "Epoch 126/130\n",
      "503/503 [==============================] - 2s 5ms/step - loss: -62.5536 - accuracy: 0.0167 - val_loss: -58.4097 - val_accuracy: 0.0021\n",
      "Epoch 127/130\n",
      "503/503 [==============================] - 2s 5ms/step - loss: -62.3271 - accuracy: 0.0042 - val_loss: -59.1288 - val_accuracy: 0.0180\n",
      "Epoch 128/130\n",
      "503/503 [==============================] - 2s 5ms/step - loss: -62.5864 - accuracy: 0.0117 - val_loss: -59.1788 - val_accuracy: 0.0032\n",
      "Epoch 129/130\n",
      "503/503 [==============================] - 2s 5ms/step - loss: -61.4135 - accuracy: 0.0057 - val_loss: -58.9525 - val_accuracy: 0.0021\n",
      "Epoch 130/130\n",
      "503/503 [==============================] - 2s 5ms/step - loss: -63.5563 - accuracy: 0.0056 - val_loss: -59.7432 - val_accuracy: 0.0026\n"
     ]
    }
   ],
   "source": [
    "history = model.fit(x_train, y_train, nb_epoch=130,batch_size=128, validation_data=(x_test, y_test))"
   ]
  },
  {
   "cell_type": "code",
   "execution_count": 8,
   "metadata": {},
   "outputs": [],
   "source": [
    "model.save('chatbotmodel.h5')"
   ]
  },
  {
   "cell_type": "code",
   "execution_count": 13,
   "metadata": {},
   "outputs": [
    {
     "name": "stdout",
     "output_type": "stream",
     "text": [
      "dict_keys(['val_loss', 'val_accuracy', 'loss', 'accuracy'])\n"
     ]
    }
   ],
   "source": [
    "\n",
    "print(history.history.keys())"
   ]
  },
  {
   "cell_type": "code",
   "execution_count": 29,
   "metadata": {},
   "outputs": [
    {
     "data": {
      "image/png": "[encoded data removed]",
      "text/plain": [
       "<Figure size 432x288 with 1 Axes>"
      ]
     },
     "metadata": {
      "needs_background": "light"
     },
     "output_type": "display_data"
    }
   ],
   "source": [
    "import matplotlib.pyplot as plt\n",
    "plt.plot(history.history['accuracy'],color='yellow',label='accuracy')\n",
    "plt.plot(history.history['loss'],color='red',label='loss')\n",
    "plt.plot(history.history['val_accuracy'],color='blue',label = \"val_accuracy\")\n",
    "plt.plot(history.history['val_loss'],color='green',label = \"val_loss\")\n",
    "plt.title('Model History')\n",
    "plt.xlabel('Loss')\n",
    "plt.ylabel('Accuracy')\n",
    "plt.grid(True,color='k')\n",
    "plt.legend(['accuracy', 'loss','val_loss','val_accuracy'])\n",
    "plt.show()\n"
   ]
  },
  {
   "cell_type": "code",
   "execution_count": null,
   "metadata": {},
   "outputs": [],
   "source": []
  },
  {
   "cell_type": "code",
   "execution_count": 30,
   "metadata": {},
   "outputs": [],
   "source": [
    "# mod = gensim.models.Word2Vec.load('/home/rukesh/Documents/semicolon/thesemicolon/word2vec.bin')"
   ]
  },
  {
   "cell_type": "code",
   "execution_count": 31,
   "metadata": {},
   "outputs": [],
   "source": [
    "# [mod.most_similar([predictions[10][i]])[0] for i in range(15)]"
   ]
  },
  {
   "cell_type": "code",
   "execution_count": null,
   "metadata": {},
   "outputs": [],
   "source": []
  }
 ],
 "metadata": {
  "kernelspec": {
   "display_name": "Python 3",
   "language": "python",
   "name": "python3"
  },
  "language_info": {
   "codemirror_mode": {
    "name": "ipython",
    "version": 3
   },
   "file_extension": ".py",
   "mimetype": "text/x-python",
   "name": "python",
   "nbconvert_exporter": "python",
   "pygments_lexer": "ipython3",
   "version": "3.6.9"
  }
 },
 "nbformat": 4,
 "nbformat_minor": 4
}
